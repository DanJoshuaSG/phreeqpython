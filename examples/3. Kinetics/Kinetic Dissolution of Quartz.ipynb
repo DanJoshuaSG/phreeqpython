{
 "cells": [
  {
   "cell_type": "markdown",
   "metadata": {},
   "source": [
    "# KINETIC DISSOLUTION OF QUARTZ\n",
    "http://hydrochemistry.eu/exmpls/kin_qu.html"
   ]
  },
  {
   "cell_type": "code",
   "execution_count": 1,
   "metadata": {},
   "outputs": [
    {
     "name": "stdout",
     "output_type": "stream",
     "text": [
      "Populating the interactive namespace from numpy and matplotlib\n"
     ]
    }
   ],
   "source": [
    "%pylab inline\n",
    "import phreeqpython\n",
    "from scipy.integrate import odeint\n",
    "pp = phreeqpython.PhreeqPython('phreeqc.dat')"
   ]
  },
  {
   "cell_type": "markdown",
   "metadata": {},
   "source": [
    "## Phreeqc Calculation"
   ]
  },
  {
   "cell_type": "markdown",
   "metadata": {},
   "source": [
    "### Dissolution Rate Function\n",
    "\n",
    "The following function describes the dissolution rate of quartz."
   ]
  },
  {
   "cell_type": "code",
   "execution_count": 2,
   "metadata": {
    "collapsed": true
   },
   "outputs": [],
   "source": [
    "def ratefun(sol, quartz_dissolved, m0, A0, V):\n",
    "    m = m0-quartz_dissolved\n",
    "    rate = (A0/V)*(m/m0)**0.67*10**-13.7*(1-sol.sr(\"Quartz\"))\n",
    "    return rate * 1e3"
   ]
  },
  {
   "cell_type": "markdown",
   "metadata": {},
   "source": [
    "## Calculation"
   ]
  },
  {
   "cell_type": "code",
   "execution_count": 3,
   "metadata": {
    "scrolled": false
   },
   "outputs": [],
   "source": [
    "solution1 = pp.add_solution({})\n",
    "\n",
    "t = np.array([])\n",
    "y = []\n",
    "\n",
    "year = 365*24*3600\n",
    "\n",
    "for time, sol in solution1.kinetics('SiO2', \n",
    "                                    rate_function=ratefun, \n",
    "                                    time=np.linspace(0,5*year, 15), \n",
    "                                    m0=158.5, \n",
    "                                    args=(23.13,0.16)):\n",
    "    t = np.append(t, time)\n",
    "    y.append(sol.total_element('Si', units='mmol'))"
   ]
  },
  {
   "cell_type": "markdown",
   "metadata": {},
   "source": [
    "### Plotting the Results"
   ]
  },
  {
   "cell_type": "code",
   "execution_count": 4,
   "metadata": {},
   "outputs": [
    {
     "data": {
      "image/png": "[encoded data removed]",
      "text/plain": [
       "<matplotlib.figure.Figure at 0x111a0c3c8>"
      ]
     },
     "metadata": {},
     "output_type": "display_data"
    }
   ],
   "source": [
    "plt.figure(figsize=[10,5])\n",
    "plt.plot(t/year,y, 'rs-')\n",
    "plt.xlim([0,5])\n",
    "plt.ylim([0,0.12])\n",
    "plt.xlabel('Years')\n",
    "plt.ylabel('mmol/l')\n",
    "plt.title('Quartz Dissolution')\n",
    "plt.grid()"
   ]
  },
  {
   "cell_type": "markdown",
   "metadata": {},
   "source": [
    "### Dissolution Calculation using odeint"
   ]
  },
  {
   "cell_type": "code",
   "execution_count": 5,
   "metadata": {},
   "outputs": [
    {
     "data": {
      "image/png": "[encoded data removed]",
      "text/plain": [
       "<matplotlib.figure.Figure at 0x111d5f208>"
      ]
     },
     "metadata": {},
     "output_type": "display_data"
    }
   ],
   "source": [
    "def rate_quartz(quartz_dissolved,time, sol, A0, V, m0):\n",
    "    temp = sol.copy() # make a temporary copy of the solution\n",
    "    temp.add('SiO2', quartz_dissolved[0], 'mol') # add SiO2 to the solution\n",
    "    m = m0-quartz_dissolved[0]\n",
    "    rate = (A0/V)*(m/m0)**0.67*10**-13.7*(1-temp.sr(\"Quartz\")) # calculate the dissolution rate    \n",
    "    temp.forget() # cleanup the no longer needed temporary solution\n",
    "    return rate\n",
    "\n",
    "solution1 = pp.add_solution({})\n",
    "year = 365*24*3600 # seconds\n",
    "\n",
    "tt = np.linspace(0, 5*year, 15)\n",
    "\n",
    "# solve differential equation\n",
    "yy = odeint(rate_quartz,0,t, args=(solution1, 23.13, 0.16, 158.5))\n",
    "\n",
    "plt.figure(figsize=[10,5])\n",
    "plt.plot(tt/year,yy*1e3, 'rs-')\n",
    "plt.xlim([0,5])\n",
    "plt.ylim([0,0.12])\n",
    "plt.xlabel('Years')\n",
    "plt.ylabel('mmol/l')\n",
    "plt.title('Quartz Dissolution')\n",
    "plt.grid()"
   ]
  },
  {
   "cell_type": "code",
   "execution_count": null,
   "metadata": {
    "collapsed": true
   },
   "outputs": [],
   "source": []
  }
 ],
 "metadata": {
  "kernelspec": {
   "display_name": "Python 3",
   "language": "python",
   "name": "python3"
  },
  "language_info": {
   "codemirror_mode": {
    "name": "ipython",
    "version": 3
   },
   "file_extension": ".py",
   "mimetype": "text/x-python",
   "name": "python",
   "nbconvert_exporter": "python",
   "pygments_lexer": "ipython3",
   "version": "3.6.2"
  }
 },
 "nbformat": 4,
 "nbformat_minor": 2
}
