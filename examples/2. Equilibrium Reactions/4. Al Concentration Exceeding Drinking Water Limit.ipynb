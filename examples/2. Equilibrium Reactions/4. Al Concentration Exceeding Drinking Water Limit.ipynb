{
 "cells": [
  {
   "cell_type": "markdown",
   "metadata": {},
   "source": [
    "# AL CONCENTRATION EXCEEDS DRINKING WATER LIMIT AT LOW AND HIGH pH\n",
    "\n",
    "http://hydrochemistry.eu/exmpls/al_conc.html"
   ]
  },
  {
   "cell_type": "code",
   "execution_count": 7,
   "metadata": {},
   "outputs": [
    {
     "name": "stdout",
     "output_type": "stream",
     "text": [
      "Populating the interactive namespace from numpy and matplotlib\n"
     ]
    }
   ],
   "source": [
    "%pylab inline\n",
    "import phreeqpython\n",
    "pp = phreeqpython.PhreeqPython('phreeqc.dat')"
   ]
  },
  {
   "cell_type": "code",
   "execution_count": 23,
   "metadata": {},
   "outputs": [
    {
     "name": "stdout",
     "output_type": "stream",
     "text": [
      "Lower limit 4.466077892037909\n",
      "Upper limit 9.42291635447819\n"
     ]
    }
   ],
   "source": [
    "print(\"Lower limit\", pp.add_solution({'Al': '0.2 mg/kgw', 'pH': '4 Gibbsite'}).pH)\n",
    "print(\"Upper limit\", pp.add_solution({'Al': '0.2 mg/kgw', 'pH': '8 Gibbsite'}).pH)"
   ]
  }
 ],
 "metadata": {
  "kernelspec": {
   "display_name": "Python 3",
   "language": "python",
   "name": "python3"
  },
  "language_info": {
   "codemirror_mode": {
    "name": "ipython",
    "version": 3
   },
   "file_extension": ".py",
   "mimetype": "text/x-python",
   "name": "python",
   "nbconvert_exporter": "python",
   "pygments_lexer": "ipython3",
   "version": "3.6.2"
  }
 },
 "nbformat": 4,
 "nbformat_minor": 2
}
